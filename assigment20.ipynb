{
  "nbformat": 4,
  "nbformat_minor": 0,
  "metadata": {
    "colab": {
      "name": "assigment20.ipynb",
      "version": "0.3.2",
      "views": {},
      "default_view": {},
      "provenance": []
    },
    "kernelspec": {
      "name": "python3",
      "display_name": "Python 3"
    }
  },
  "cells": [
    {
      "metadata": {
        "id": "QODb3yow8-XT",
        "colab_type": "code",
        "colab": {
          "autoexec": {
            "startup": false,
            "wait_interval": 0
          }
        }
      },
      "cell_type": "code",
      "source": [
        "\n",
        "createcreate  aa  dataframedatafra  and add info."
      ],
      "execution_count": 0,
      "outputs": []
    },
    {
      "metadata": {
        "id": "Cbgs303X9H9H",
        "colab_type": "code",
        "colab": {
          "autoexec": {
            "startup": false,
            "wait_interval": 0
          },
          "base_uri": "https://localhost:8080/",
          "height": 102
        },
        "outputId": "436c5ae7-53a8-4c5e-cce7-c8bdd1890447",
        "executionInfo": {
          "status": "ok",
          "timestamp": 1530869900340,
          "user_tz": -330,
          "elapsed": 1444,
          "user": {
            "displayName": "Deepa Rani",
            "photoUrl": "https://lh3.googleusercontent.com/a/default-user=s128",
            "userId": "116725797827777164786"
          }
        }
      },
      "cell_type": "code",
      "source": [
        "import pandas as pd\n",
        "import numpy as np\n",
        "data = {'name':['avi','mic','kick','rick'],\n",
        "         'age':[20,18,19,21],\n",
        "         'mail i.d':['ashgdhg@gamil.com','hqgsy@gmail.com','gashydtgwy23467@gmail.com','sgfyhtgweuh@gmail.com'],\n",
        "         'ph no':[3287872465,48658787,467676,372489728]}\n",
        "df=pd.DataFrame(data)\n",
        "print(df)"
      ],
      "execution_count": 1,
      "outputs": [
        {
          "output_type": "stream",
          "text": [
            "   age                   mail i.d  name       ph no\n",
            "0   20          ashgdhg@gamil.com   avi  3287872465\n",
            "1   18            hqgsy@gmail.com   mic    48658787\n",
            "2   19  gashydtgwy23467@gmail.com  kick      467676\n",
            "3   21      sgfyhtgweuh@gmail.com  rick   372489728\n"
          ],
          "name": "stdout"
        }
      ]
    }
  ]
}